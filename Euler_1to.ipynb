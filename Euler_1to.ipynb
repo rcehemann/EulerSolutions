{
 "cells": [
  {
   "cell_type": "markdown",
   "metadata": {},
   "source": [
    "# Problem 1\n",
    "https://projecteuler.net/problem=1"
   ]
  },
  {
   "cell_type": "code",
   "execution_count": null,
   "metadata": {},
   "outputs": [],
   "source": [
    "[i for i in 1:999 if i%3 == 0 || i%5 == 0] |> sum"
   ]
  },
  {
   "cell_type": "markdown",
   "metadata": {},
   "source": [
    "# Problem 2\n",
    "https://projecteuler.net/problem=2"
   ]
  },
  {
   "cell_type": "code",
   "execution_count": 9,
   "metadata": {},
   "outputs": [
    {
     "data": {
      "text/plain": [
       "4613732"
      ]
     },
     "execution_count": 9,
     "metadata": {},
     "output_type": "execute_result"
    }
   ],
   "source": [
    "function fib(n)\n",
    "    (n == 1 || n == 2) && return n\n",
    "    return fib(n-1) + fib(n-2)\n",
    "end\n",
    "\n",
    "sum = 0; val=0; i=0\n",
    "while val < 4000000\n",
    "    i += 1\n",
    "    val = fib(i)\n",
    "    if val % 2 == 0\n",
    "        sum += val\n",
    "    end\n",
    "end\n",
    "sum"
   ]
  }
 ],
 "metadata": {
  "kernelspec": {
   "display_name": "Julia 1.3.1",
   "language": "julia",
   "name": "julia-1.3"
  },
  "language_info": {
   "file_extension": ".jl",
   "mimetype": "application/julia",
   "name": "julia",
   "version": "1.3.1"
  }
 },
 "nbformat": 4,
 "nbformat_minor": 4
}
